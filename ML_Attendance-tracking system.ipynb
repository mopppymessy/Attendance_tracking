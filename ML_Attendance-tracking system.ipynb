{
 "cells": [
  {
   "cell_type": "markdown",
   "id": "6b5f95bd-0f79-4615-8cce-ca6a4698beba",
   "metadata": {},
   "source": [
    "# Import Libraries"
   ]
  },
  {
   "cell_type": "code",
   "execution_count": 3,
   "id": "aff704c5-5d19-4954-a87d-e2250cc83c76",
   "metadata": {},
   "outputs": [],
   "source": [
    "import cv2\n",
    "import pandas as pd\n",
    "import os\n",
    "import joblib\n",
    "import time\n",
    "from datetime import datetime\n",
    "from deepface import DeepFace\n",
    "import numpy as np"
   ]
  },
  {
   "cell_type": "markdown",
   "id": "9d7c4d16-a6cd-4328-81ed-67f39f59926b",
   "metadata": {},
   "source": [
    "###### initializes the a variable with the directory path where the face images are stored. It also initializes two empty lists to store face encodings and the names. The face cascade variable is set for using OpenCV pre-trained Haar cascade classifier for detecting faces"
   ]
  },
  {
   "cell_type": "code",
   "execution_count": 4,
   "id": "b41560a6-105b-4b26-b812-5151daa22e3e",
   "metadata": {},
   "outputs": [],
   "source": [
    "face_direct = 'ImagesAttendance'  \n",
    "encodings = []\n",
    "names= []\n",
    "face_cascade = cv2.CascadeClassifier(cv2.data.haarcascades + 'haarcascade_frontalface_default.xml')"
   ]
  },
  {
   "cell_type": "code",
   "execution_count": 5,
   "id": "ad0bcd5d-6108-4adf-bf5e-b3f901ccfb00",
   "metadata": {},
   "outputs": [],
   "source": [
    "#Initialize attendance CSV file\n",
    "date_folder = datetime.now().strftime(\"%Y-%m-%d\")\n",
    "os.makedirs(date_folder, exist_ok=True)\n",
    "\n",
    "#Define the path to the CSV file and create it if it doesn't exist\n",
    "csv_file = os.path.join(date_folder, 'Attendance.csv')\n",
    "\n",
    "if not os.path.exists(csv_file):\n",
    "    pd.DataFrame(columns=['Name', 'Time', 'Image Path']).to_csv(csv_file, index=False)\n",
    "else:\n",
    "    print(f\"File '{csv_file}' already exists.\")"
   ]
  },
  {
   "cell_type": "markdown",
   "id": "4caa099e-80fb-43f3-bd45-fdc2c691a811",
   "metadata": {},
   "source": [
    "##### THIs initializes the process for managing  attendance CSV file. It starts by creating a directory named with the current date. If this directory does not already exist ensures it exists. Then the path for the CSV file is defined. If the file does not exist, it creates a new CSV file with columns for name,time, and image path. If the file already exists it prints a message this avoids unnecessary file creation."
   ]
  },
  {
   "cell_type": "code",
   "execution_count": null,
   "id": "b25b5ce9-aa83-4ed5-9a7c-75474952f68e",
   "metadata": {},
   "outputs": [],
   "source": [
    "def process_image(image_path, person_name):\n",
    "    img = cv2.imread(image_path)\n",
    "    \n",
    "    if img is None:\n",
    "        print(f\"Failed to read {image_path}\")\n",
    "        return None\n",
    "    else:\n",
    "        try:\n",
    "            result = DeepFace.represent(img, model_name='Facenet', enforce_detection=False)[0]\n",
    "            encoding = result['embedding']\n",
    "            return encoding, person_name\n",
    "        except Exception as e:\n",
    "            print(f\"Could not process {image_path}: {e}\")\n",
    "            return None\n",
    "\n",
    "def process_folder(person_folder_path, person_name):\n",
    "    image_files = [f for f in os.listdir(person_folder_path) if f.endswith(('.jpg', '.jpeg'))]\n",
    "    \n",
    "    results = []\n",
    "    for image_file in image_files:\n",
    "        image_path = os.path.join(person_folder_path, image_file)\n",
    "        result = process_image(image_path, person_name)\n",
    "        if result is not None:\n",
    "            results.append(result)\n",
    "    \n",
    "    return results\n",
    "\n",
    "def process_directory(face_directory):\n",
    "    person_folders = [f for f in os.listdir(face_directory) if os.path.isdir(os.path.join(face_directory, f))]\n",
    "    \n",
    "    all_results = []\n",
    "    for folder in person_folders:\n",
    "        folder_path = os.path.join(face_directory, folder)\n",
    "        results = process_folder(folder_path, folder)\n",
    "        if results:\n",
    "            all_results.extend(results)\n",
    "    \n",
    "    return all_results\n",
    "\n",
    "encodings_names = process_directory(face_direct)\n",
    "\n",
    "#append the results to the lists\n",
    "if encodings_names:\n",
    "    for encoding, name in encodings_names:\n",
    "        encodings.append(encoding)\n",
    "        names.append(name)"
   ]
  },
  {
   "cell_type": "markdown",
   "id": "8e43c3e0-93a3-4285-9854-a2046175e377",
   "metadata": {},
   "source": [
    "##### firrst recording the current time and printing a message with the name, time, and the image path. It will then check if the CSV file specified by name exists. If file exists it reads the existing data into a df.creates a new DataFrame entry with the provided name, time, and image path, appends this entry. It then prints a message that tells the attendance has been logged."
   ]
  },
  {
   "cell_type": "code",
   "execution_count": null,
   "id": "c94e99ea-7bde-4b68-b1cf-ec3cd905f23c",
   "metadata": {},
   "outputs": [],
   "source": [
    "def log_attendance(name, img_path):\n",
    "    time_now = datetime.now().strftime(\"%H:%M:%S\")\n",
    "    print(f\"Logging attendance: Name: {name}, Time: {time_now}, Image Path: {img_path}\")\n",
    "    \n",
    "    #Check if the CSV file exists before reading it\n",
    "    if os.path.exists(csv_file):\n",
    "        df = pd.read_csv(csv_file)\n",
    "    else:\n",
    "        print(f\"CSV file {csv_file} does not exist. Creating a new file.\")\n",
    "        df = pd.DataFrame(columns=['Name', 'Time', 'Image Path'])\n",
    "\n",
    "    #Create a new entry\n",
    "    new_entry = pd.DataFrame([{'Name': name, 'Time': time_now, 'Image Path': img_path}])\n",
    "    \n",
    "    #Concatenate the new entry to the existing DataFrame\n",
    "    df = pd.concat([df, new_entry], ignore_index=True)\n",
    "    \n",
    "    #Write the updated DataFrame back to the CSV file\n",
    "    df.to_csv(csv_file, index=False)\n",
    "    print(f\"Attendance logged for {name}\")"
   ]
  },
  {
   "cell_type": "markdown",
   "id": "492ade92-9567-4c92-acb7-efd30d71e35b",
   "metadata": {},
   "source": [
    "##### A trained age prediction model to estimate the age of faces in images. this loades the model preprocessing images to match the requirements, and making predictions based the images"
   ]
  },
  {
   "cell_type": "code",
   "execution_count": null,
   "id": "6e3399c8-6f46-44a3-82dc-b8570044a8bf",
   "metadata": {},
   "outputs": [],
   "source": [
    "#Load trained age prediction model\n",
    "age_regression_model = joblib.load('MLAssignment2.pk1')  # Replace with your model's path\n",
    "\n",
    "def preprocess_for_model(image):\n",
    "    #Replace these steps with the exact preprocessing steps used during your model training\n",
    "    image_resized = cv2.resize(image, (224, 224))\n",
    "    #Normalize pixel values\n",
    "    image_normalized = image_resized / 255.0  \n",
    "    #Reshape for model input\n",
    "    image_reshaped = image_normalized.reshape(1, 224, 224, 3)  \n",
    "    return image_reshaped\n",
    "\n",
    "def predict_age(face_image):\n",
    "    if face_image.shape[-1] == 3: \n",
    "        face_image_rgb = cv2.cvtColor(face_image, cv2.COLOR_BGR2RGB)\n",
    "    else:\n",
    "        face_image_rgb = face_image\n",
    "    #Preprocess the image for model\n",
    "    preprocessed_image = preprocess_for_model(face_image_rgb)\n",
    "    \n",
    "    #Predict the age using trained  model\n",
    "    if preprocessed_image is not None:\n",
    "        predicted_age = age_regression_model.predict(preprocessed_image)\n",
    "        return str(int(predicted_age[0]))  # Convert to integer and then to string\n",
    "    else:\n",
    "        print(\"Preprocessing failed.\")\n",
    "        return \"N/A\""
   ]
  },
  {
   "cell_type": "markdown",
   "id": "3bfa8201-6f57-4b15-95b3-b4b2d17d2536",
   "metadata": {},
   "source": [
    "##### this sets up a real-time face detection and attendance logging system. add new attendance entries to a CSV file. WHich creates a new file if it does not exist and appending data to it directly. then captures video frames from the webcam and processes them to detect faces. If no faces are detected it prints a message and for every detected face it extracts the face region  and then converts it into RGB format which then computes the face encoding. It is then compared with this encoding against the known face encodings to identify who the person is. If the face is unknown it predicts the person's age using a pre-trained model."
   ]
  },
  {
   "cell_type": "code",
   "execution_count": null,
   "id": "cdf19489-2159-45e4-8cd7-0aa9018220ca",
   "metadata": {},
   "outputs": [],
   "source": [
    "last_log_time = time.time()\n",
    "log_interval = 3\n",
    "date_folder = datetime.now().strftime(\"%Y-%m-%d\")\n",
    "if not os.path.exists(date_folder):\n",
    "    os.makedirs(date_folder)\n",
    "\n",
    "def log_attendances(name, img_path):\n",
    "    time_now = datetime.now().strftime(\"%H:%M:%S\")\n",
    "    print(f\"Logging attendance: Name: {name}, Time: {time_now}, Image Path: {img_path}\")\n",
    "\n",
    "    #Create a DataFrame for the new entry\n",
    "    new_entry = pd.DataFrame([{'Name': name, 'Time': time_now, 'Image Path': img_path}])\n",
    "\n",
    "    #Append the new entry to the CSV file directly\n",
    "    new_entry.to_csv(csv_file, mode='a', header=not os.path.exists(csv_file), index=False)\n",
    "    print(f\"Attendance logged for {name}\")\n",
    "\n",
    "while True:\n",
    "    ret, frame = cap.read()\n",
    "    if not ret:\n",
    "        print(\"Failed to grab frame\")\n",
    "        break\n",
    "\n",
    "    gray = cv2.cvtColor(frame, cv2.COLOR_BGR2GRAY)\n",
    "    faces = face_cascade.detectMultiScale(gray, scaleFactor=1.1, minNeighbors=5, minSize=(30, 30))\n",
    "\n",
    "    print(f\"Number of faces detected: {len(faces)}\")\n",
    "\n",
    "    if not faces:\n",
    "        print(\"No faces detected\")\n",
    "\n",
    "    for (x, y, w, h) in faces:\n",
    "        face_image = frame[y:y+h, x:x+w]\n",
    "        name = \"Unknown\"\n",
    "        age = \"N/A\"\n",
    "\n",
    "        face_image_rgb = cv2.cvtColor(face_image, cv2.COLOR_BGR2RGB)  # Convert to RGB\n",
    "        face_encoding = DeepFace.represent(face_image_rgb, model_name='Facenet', enforce_detection=False)[0]['embedding']\n",
    "\n",
    "        #check for known faces\n",
    "        for known_encoding, known_name in zip(known_encodings, known_names):\n",
    "            result = DeepFace.verify(face_encoding, known_encoding, model_name='Facenet', enforce_detection=False)\n",
    "            if result['verified']:\n",
    "                name = known_name\n",
    "                break\n",
    "\n",
    "        if name == \"Unknown\":\n",
    "            age = predict_age(face_image_rgb)  \n",
    "\n",
    "        #draw bounding box\n",
    "        cv2.rectangle(frame, (x, y), (x+w, y+h), (0, 255, 0), 2)\n",
    "\n",
    "        #display name and age above the bounding box\n",
    "        label = f\"{name}, Age: {age}\"\n",
    "        label_size, _ = cv2.getTextSize(label, cv2.FONT_HERSHEY_SIMPLEX, 0.9, 2)\n",
    "        label_w, label_h = label_size\n",
    "        y_label = max(y - 10, 10)  \n",
    "        cv2.rectangle(frame, (x, y_label - label_h - 10), (x + label_w, y_label), (0, 255, 0), cv2.FILLED)\n",
    "        cv2.putText(frame, label, (x, y_label - 10), cv2.FONT_HERSHEY_SIMPLEX, 0.9, (255, 255, 255), 2)\n",
    "\n",
    "        #Save image and log attendance\n",
    "        img_path = os.path.join(date_folder, f\"{name}_{datetime.now().strftime('%H%M%S')}.jpg\")\n",
    "        cv2.imwrite(img_path, face_image)\n",
    "\n",
    "        current_time = time.time()\n",
    "        if name != \"Unknown\" and (current_time - last_log_time) > log_interval:\n",
    "            log_attendance(name, img_path)\n",
    "            last_log_time = current_time\n",
    "\n",
    "    cv2.imshow('Real-Time Face Detection and Attendance System', frame)\n",
    "\n",
    "    if cv2.waitKey(1) & 0xFF == ord('s'):\n",
    "        break\n",
    "\n",
    "cap.release()\n",
    "cv2.destroyAllWindows()"
   ]
  },
  {
   "cell_type": "code",
   "execution_count": null,
   "id": "5dade105-8fa6-419d-85e3-e162c2734a07",
   "metadata": {},
   "outputs": [],
   "source": []
  }
 ],
 "metadata": {
  "kernelspec": {
   "display_name": "Python 3 (ipykernel)",
   "language": "python",
   "name": "python3"
  },
  "language_info": {
   "codemirror_mode": {
    "name": "ipython",
    "version": 3
   },
   "file_extension": ".py",
   "mimetype": "text/x-python",
   "name": "python",
   "nbconvert_exporter": "python",
   "pygments_lexer": "ipython3",
   "version": "3.12.5"
  }
 },
 "nbformat": 4,
 "nbformat_minor": 5
}
